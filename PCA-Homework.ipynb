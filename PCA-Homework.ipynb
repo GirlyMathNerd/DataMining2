{
 "cells": [
  {
   "cell_type": "markdown",
   "metadata": {},
   "source": [
    "1. With the `food-texture.csv`, build a PCA model with 5 components, then detrmine the variables that should be kept, with a 95% tolerance.\n",
    "2. Using `room-temperature.csv`, generate a PCA model with 4 components, and provide the covariance matrix and the explained variance. Based on the explained variance, what data columns should we keep if our tolerance is 90%? Refit the model with the components we need.\n",
    "3. With the `silicon-wafer-thickness.csv`, build a PCA model using all the components of the data, and determine the number of components for a data set with 90% tolerance of variance and 95% tolerance. Refit the model for 90% and 95%."
   ]
  },
  {
   "cell_type": "code",
   "execution_count": 13,
   "metadata": {
    "collapsed": true
   },
   "outputs": [],
   "source": [
    "from IPython.core.display import display\n",
    "import numpy as np\n",
    "from numpy import linalg as LA\n",
    "import math\n",
    "import pandas as pd\n",
    "from sklearn.decomposition import PCA as sklearnPCA\n",
    "from sklearn.preprocessing import StandardScaler\n",
    "import csv"
   ]
  },
  {
   "cell_type": "markdown",
   "metadata": {},
   "source": [
    "## Problem 1 :"
   ]
  },
  {
   "cell_type": "code",
   "execution_count": 14,
   "metadata": {
    "collapsed": false
   },
   "outputs": [
    {
     "data": {
      "text/html": [
       "<div>\n",
       "<table border=\"1\" class=\"dataframe\">\n",
       "  <thead>\n",
       "    <tr style=\"text-align: right;\">\n",
       "      <th></th>\n",
       "      <th>Unnamed: 0</th>\n",
       "      <th>Oil</th>\n",
       "      <th>Density</th>\n",
       "      <th>Crispy</th>\n",
       "      <th>Fracture</th>\n",
       "      <th>Hardness</th>\n",
       "    </tr>\n",
       "  </thead>\n",
       "  <tbody>\n",
       "    <tr>\n",
       "      <th>45</th>\n",
       "      <td>B907</td>\n",
       "      <td>16.6</td>\n",
       "      <td>2865</td>\n",
       "      <td>11</td>\n",
       "      <td>25</td>\n",
       "      <td>120</td>\n",
       "    </tr>\n",
       "    <tr>\n",
       "      <th>46</th>\n",
       "      <td>B911</td>\n",
       "      <td>16.4</td>\n",
       "      <td>2995</td>\n",
       "      <td>12</td>\n",
       "      <td>20</td>\n",
       "      <td>165</td>\n",
       "    </tr>\n",
       "    <tr>\n",
       "      <th>47</th>\n",
       "      <td>B923</td>\n",
       "      <td>15.1</td>\n",
       "      <td>2925</td>\n",
       "      <td>10</td>\n",
       "      <td>29</td>\n",
       "      <td>118</td>\n",
       "    </tr>\n",
       "    <tr>\n",
       "      <th>48</th>\n",
       "      <td>B971</td>\n",
       "      <td>21.1</td>\n",
       "      <td>2700</td>\n",
       "      <td>13</td>\n",
       "      <td>16</td>\n",
       "      <td>116</td>\n",
       "    </tr>\n",
       "    <tr>\n",
       "      <th>49</th>\n",
       "      <td>B998</td>\n",
       "      <td>16.3</td>\n",
       "      <td>2845</td>\n",
       "      <td>10</td>\n",
       "      <td>26</td>\n",
       "      <td>75</td>\n",
       "    </tr>\n",
       "  </tbody>\n",
       "</table>\n",
       "</div>"
      ],
      "text/plain": [
       "   Unnamed: 0   Oil  Density  Crispy  Fracture  Hardness\n",
       "45       B907  16.6     2865      11        25       120\n",
       "46       B911  16.4     2995      12        20       165\n",
       "47       B923  15.1     2925      10        29       118\n",
       "48       B971  21.1     2700      13        16       116\n",
       "49       B998  16.3     2845      10        26        75"
      ]
     },
     "metadata": {},
     "output_type": "display_data"
    }
   ],
   "source": [
    "food = pd.read_csv(\"food-texture.csv\")\n",
    "\n",
    "display(food.tail())"
   ]
  },
  {
   "cell_type": "code",
   "execution_count": 24,
   "metadata": {
    "collapsed": false,
    "scrolled": true
   },
   "outputs": [
    {
     "name": "stdout",
     "output_type": "stream",
     "text": [
      "Explained Variance:\n",
      "[ 0.60624263  0.25914115  0.06200987  0.04838402  0.02422233]\n",
      "\n",
      "0.975777670877\n",
      "Dimensionally-reduced data set (tail):\n"
     ]
    },
    {
     "data": {
      "text/html": [
       "<div>\n",
       "<table border=\"1\" class=\"dataframe\">\n",
       "  <thead>\n",
       "    <tr style=\"text-align: right;\">\n",
       "      <th></th>\n",
       "      <th>0</th>\n",
       "      <th>1</th>\n",
       "      <th>2</th>\n",
       "      <th>3</th>\n",
       "    </tr>\n",
       "  </thead>\n",
       "  <tbody>\n",
       "    <tr>\n",
       "      <th>45</th>\n",
       "      <td>-0.787704</td>\n",
       "      <td>-0.278429</td>\n",
       "      <td>0.087182</td>\n",
       "      <td>0.393916</td>\n",
       "    </tr>\n",
       "    <tr>\n",
       "      <th>46</th>\n",
       "      <td>-0.357685</td>\n",
       "      <td>1.636842</td>\n",
       "      <td>0.132277</td>\n",
       "      <td>-0.364841</td>\n",
       "    </tr>\n",
       "    <tr>\n",
       "      <th>47</th>\n",
       "      <td>-2.141993</td>\n",
       "      <td>-0.080405</td>\n",
       "      <td>-0.061280</td>\n",
       "      <td>0.739172</td>\n",
       "    </tr>\n",
       "    <tr>\n",
       "      <th>48</th>\n",
       "      <td>2.584544</td>\n",
       "      <td>-1.325324</td>\n",
       "      <td>0.778196</td>\n",
       "      <td>-0.615027</td>\n",
       "    </tr>\n",
       "    <tr>\n",
       "      <th>49</th>\n",
       "      <td>-1.417243</td>\n",
       "      <td>-1.594231</td>\n",
       "      <td>-0.553364</td>\n",
       "      <td>0.322129</td>\n",
       "    </tr>\n",
       "  </tbody>\n",
       "</table>\n",
       "</div>"
      ],
      "text/plain": [
       "           0         1         2         3\n",
       "45 -0.787704 -0.278429  0.087182  0.393916\n",
       "46 -0.357685  1.636842  0.132277 -0.364841\n",
       "47 -2.141993 -0.080405 -0.061280  0.739172\n",
       "48  2.584544 -1.325324  0.778196 -0.615027\n",
       "49 -1.417243 -1.594231 -0.553364  0.322129"
      ]
     },
     "metadata": {},
     "output_type": "display_data"
    }
   ],
   "source": [
    "data_set = food.ix[:,1:6].values\n",
    "#display(data_set)\n",
    "data_set_std = StandardScaler().fit_transform(data_set)\n",
    "sklearn_pca = sklearnPCA(n_components=5)\n",
    "sklearn_pca.fit(data_set_std)\n",
    "\n",
    "# covariance matrix\n",
    "covariance_matrix = sklearn_pca.get_covariance()\n",
    "#print(\"Covariance matrix:\\n%s\\n\" %covariance_matrix)\n",
    "# eigenvectors\n",
    "eigenvectors = sklearn_pca.components_.T\n",
    "#print(\"Eigenvectors:\\n%s\\n\" %eigenvectors)\n",
    "# eigenvalues (already sorted highest to lowest)\n",
    "eigenvalues_sum = sum(sklearn_pca.explained_variance_)\n",
    "explained_variance = sklearn_pca.explained_variance_/eigenvalues_sum\n",
    "print(\"Explained Variance:\\n%s\\n\" %explained_variance)\n",
    "print(sum(explained_variance[0:4]))\n",
    "\n",
    "# explained variance shows we really only need the eigenvectors associated with the first four eigenvalues\n",
    "sklearn_pca = sklearnPCA(n_components=4)\n",
    "sklearn_pca.fit(data_set_std)\n",
    "# apply the feature vector to the data set\n",
    "pca_data_set = pd.DataFrame(sklearn_pca.transform(data_set_std))\n",
    "print(\"Dimensionally-reduced data set (tail):\")\n",
    "display(pca_data_set.tail())"
   ]
  },
  {
   "cell_type": "markdown",
   "metadata": {},
   "source": [
    "In order to explin 95% of the variance we need to include the first four factors."
   ]
  },
  {
   "cell_type": "markdown",
   "metadata": {},
   "source": [
    "## Problem 2 :"
   ]
  },
  {
   "cell_type": "code",
   "execution_count": 25,
   "metadata": {
    "collapsed": false
   },
   "outputs": [
    {
     "data": {
      "text/html": [
       "<div>\n",
       "<table border=\"1\" class=\"dataframe\">\n",
       "  <thead>\n",
       "    <tr style=\"text-align: right;\">\n",
       "      <th></th>\n",
       "      <th>Date</th>\n",
       "      <th>FrontLeft</th>\n",
       "      <th>FrontRight</th>\n",
       "      <th>BackLeft</th>\n",
       "      <th>BackRight</th>\n",
       "    </tr>\n",
       "  </thead>\n",
       "  <tbody>\n",
       "    <tr>\n",
       "      <th>139</th>\n",
       "      <td>4/14/2010 9:00</td>\n",
       "      <td>295.8</td>\n",
       "      <td>294.6</td>\n",
       "      <td>294.8</td>\n",
       "      <td>295.7</td>\n",
       "    </tr>\n",
       "    <tr>\n",
       "      <th>140</th>\n",
       "      <td>4/14/2010 9:30</td>\n",
       "      <td>294.8</td>\n",
       "      <td>295.5</td>\n",
       "      <td>294.7</td>\n",
       "      <td>295.6</td>\n",
       "    </tr>\n",
       "    <tr>\n",
       "      <th>141</th>\n",
       "      <td>4/14/2010 10:00</td>\n",
       "      <td>295.9</td>\n",
       "      <td>295.8</td>\n",
       "      <td>295.5</td>\n",
       "      <td>295.2</td>\n",
       "    </tr>\n",
       "    <tr>\n",
       "      <th>142</th>\n",
       "      <td>4/14/2010 10:30</td>\n",
       "      <td>295.1</td>\n",
       "      <td>296.2</td>\n",
       "      <td>296.0</td>\n",
       "      <td>296.1</td>\n",
       "    </tr>\n",
       "    <tr>\n",
       "      <th>143</th>\n",
       "      <td>4/14/2010 11:00</td>\n",
       "      <td>296.2</td>\n",
       "      <td>297.2</td>\n",
       "      <td>296.6</td>\n",
       "      <td>296.0</td>\n",
       "    </tr>\n",
       "  </tbody>\n",
       "</table>\n",
       "</div>"
      ],
      "text/plain": [
       "                Date  FrontLeft  FrontRight  BackLeft  BackRight\n",
       "139   4/14/2010 9:00      295.8       294.6     294.8      295.7\n",
       "140   4/14/2010 9:30      294.8       295.5     294.7      295.6\n",
       "141  4/14/2010 10:00      295.9       295.8     295.5      295.2\n",
       "142  4/14/2010 10:30      295.1       296.2     296.0      296.1\n",
       "143  4/14/2010 11:00      296.2       297.2     296.6      296.0"
      ]
     },
     "metadata": {},
     "output_type": "display_data"
    }
   ],
   "source": [
    "temp = pd.read_csv(\"room-temperature.csv\")\n",
    "\n",
    "display(temp.tail())"
   ]
  },
  {
   "cell_type": "code",
   "execution_count": 28,
   "metadata": {
    "collapsed": false
   },
   "outputs": [
    {
     "name": "stdout",
     "output_type": "stream",
     "text": [
      "Explained Variance:\n",
      "[ 0.7660801   0.16896714  0.0366861   0.02826666]\n",
      "\n",
      "0.935047236322\n",
      "Dimensionally-reduced data set (tail):\n"
     ]
    },
    {
     "data": {
      "text/html": [
       "<div>\n",
       "<table border=\"1\" class=\"dataframe\">\n",
       "  <thead>\n",
       "    <tr style=\"text-align: right;\">\n",
       "      <th></th>\n",
       "      <th>0</th>\n",
       "      <th>1</th>\n",
       "    </tr>\n",
       "  </thead>\n",
       "  <tbody>\n",
       "    <tr>\n",
       "      <th>139</th>\n",
       "      <td>-0.522176</td>\n",
       "      <td>-0.301549</td>\n",
       "    </tr>\n",
       "    <tr>\n",
       "      <th>140</th>\n",
       "      <td>-0.424370</td>\n",
       "      <td>-0.287943</td>\n",
       "    </tr>\n",
       "    <tr>\n",
       "      <th>141</th>\n",
       "      <td>-0.967853</td>\n",
       "      <td>-0.564290</td>\n",
       "    </tr>\n",
       "    <tr>\n",
       "      <th>142</th>\n",
       "      <td>-1.282329</td>\n",
       "      <td>0.002331</td>\n",
       "    </tr>\n",
       "    <tr>\n",
       "      <th>143</th>\n",
       "      <td>-2.062368</td>\n",
       "      <td>-0.453206</td>\n",
       "    </tr>\n",
       "  </tbody>\n",
       "</table>\n",
       "</div>"
      ],
      "text/plain": [
       "            0         1\n",
       "139 -0.522176 -0.301549\n",
       "140 -0.424370 -0.287943\n",
       "141 -0.967853 -0.564290\n",
       "142 -1.282329  0.002331\n",
       "143 -2.062368 -0.453206"
      ]
     },
     "metadata": {},
     "output_type": "display_data"
    }
   ],
   "source": [
    "data_set = temp.ix[:,1:5].values\n",
    "#display(data_set)\n",
    "data_set_std = StandardScaler().fit_transform(data_set)\n",
    "sklearn_pca = sklearnPCA(n_components=4)\n",
    "sklearn_pca.fit(data_set_std)\n",
    "\n",
    "# covariance matrix\n",
    "covariance_matrix = sklearn_pca.get_covariance()\n",
    "#print(\"Covariance matrix:\\n%s\\n\" %covariance_matrix)\n",
    "# eigenvectors\n",
    "eigenvectors = sklearn_pca.components_.T\n",
    "#print(\"Eigenvectors:\\n%s\\n\" %eigenvectors)\n",
    "# eigenvalues (already sorted highest to lowest)\n",
    "eigenvalues_sum = sum(sklearn_pca.explained_variance_)\n",
    "explained_variance = sklearn_pca.explained_variance_/eigenvalues_sum\n",
    "print(\"Explained Variance:\\n%s\\n\" %explained_variance)\n",
    "print(sum(explained_variance[0:2]))\n",
    "\n",
    "# explained variance shows we really only need the eigenvectors associated with the first two eigenvalues\n",
    "sklearn_pca = sklearnPCA(n_components=2)\n",
    "sklearn_pca.fit(data_set_std)\n",
    "# apply the feature vector to the data set\n",
    "pca_data_set = pd.DataFrame(sklearn_pca.transform(data_set_std))\n",
    "print(\"Dimensionally-reduced data set (tail):\")\n",
    "display(pca_data_set.tail())"
   ]
  },
  {
   "cell_type": "markdown",
   "metadata": {},
   "source": [
    "We need to include the first two components with a tolerance of 90%"
   ]
  },
  {
   "cell_type": "markdown",
   "metadata": {},
   "source": [
    "# Problem 3 :"
   ]
  },
  {
   "cell_type": "code",
   "execution_count": 29,
   "metadata": {
    "collapsed": false
   },
   "outputs": [
    {
     "data": {
      "text/html": [
       "<div>\n",
       "<table border=\"1\" class=\"dataframe\">\n",
       "  <thead>\n",
       "    <tr style=\"text-align: right;\">\n",
       "      <th></th>\n",
       "      <th>G1</th>\n",
       "      <th>G2</th>\n",
       "      <th>G3</th>\n",
       "      <th>G4</th>\n",
       "      <th>G5</th>\n",
       "      <th>G6</th>\n",
       "      <th>G7</th>\n",
       "      <th>G8</th>\n",
       "      <th>G9</th>\n",
       "    </tr>\n",
       "  </thead>\n",
       "  <tbody>\n",
       "    <tr>\n",
       "      <th>179</th>\n",
       "      <td>0.535</td>\n",
       "      <td>0.524</td>\n",
       "      <td>0.649</td>\n",
       "      <td>0.475</td>\n",
       "      <td>0.486</td>\n",
       "      <td>0.657</td>\n",
       "      <td>0.941</td>\n",
       "      <td>0.527</td>\n",
       "      <td>0.494</td>\n",
       "    </tr>\n",
       "    <tr>\n",
       "      <th>180</th>\n",
       "      <td>0.041</td>\n",
       "      <td>0.056</td>\n",
       "      <td>0.194</td>\n",
       "      <td>0.234</td>\n",
       "      <td>-0.003</td>\n",
       "      <td>-0.310</td>\n",
       "      <td>0.267</td>\n",
       "      <td>-0.449</td>\n",
       "      <td>-0.432</td>\n",
       "    </tr>\n",
       "    <tr>\n",
       "      <th>181</th>\n",
       "      <td>0.507</td>\n",
       "      <td>0.563</td>\n",
       "      <td>0.539</td>\n",
       "      <td>0.634</td>\n",
       "      <td>0.471</td>\n",
       "      <td>0.578</td>\n",
       "      <td>0.686</td>\n",
       "      <td>0.763</td>\n",
       "      <td>0.576</td>\n",
       "    </tr>\n",
       "    <tr>\n",
       "      <th>182</th>\n",
       "      <td>-0.033</td>\n",
       "      <td>-0.025</td>\n",
       "      <td>0.118</td>\n",
       "      <td>0.148</td>\n",
       "      <td>-0.076</td>\n",
       "      <td>-0.403</td>\n",
       "      <td>-0.345</td>\n",
       "      <td>0.084</td>\n",
       "      <td>-0.473</td>\n",
       "    </tr>\n",
       "    <tr>\n",
       "      <th>183</th>\n",
       "      <td>0.470</td>\n",
       "      <td>0.520</td>\n",
       "      <td>0.526</td>\n",
       "      <td>0.553</td>\n",
       "      <td>0.650</td>\n",
       "      <td>0.920</td>\n",
       "      <td>0.466</td>\n",
       "      <td>0.608</td>\n",
       "      <td>0.550</td>\n",
       "    </tr>\n",
       "  </tbody>\n",
       "</table>\n",
       "</div>"
      ],
      "text/plain": [
       "        G1     G2     G3     G4     G5     G6     G7     G8     G9\n",
       "179  0.535  0.524  0.649  0.475  0.486  0.657  0.941  0.527  0.494\n",
       "180  0.041  0.056  0.194  0.234 -0.003 -0.310  0.267 -0.449 -0.432\n",
       "181  0.507  0.563  0.539  0.634  0.471  0.578  0.686  0.763  0.576\n",
       "182 -0.033 -0.025  0.118  0.148 -0.076 -0.403 -0.345  0.084 -0.473\n",
       "183  0.470  0.520  0.526  0.553  0.650  0.920  0.466  0.608  0.550"
      ]
     },
     "metadata": {},
     "output_type": "display_data"
    }
   ],
   "source": [
    "wafer = pd.read_csv(\"silicon-wafer-thickness.csv\")\n",
    "\n",
    "display(wafer.tail())"
   ]
  },
  {
   "cell_type": "code",
   "execution_count": 35,
   "metadata": {
    "collapsed": false
   },
   "outputs": [
    {
     "name": "stdout",
     "output_type": "stream",
     "text": [
      "Explained Variance:\n",
      "[ 0.90837038  0.02822623  0.02240953  0.01960468  0.00768546  0.00624863\n",
      "  0.0033764   0.0029256   0.00115308]\n",
      "\n",
      "0.908370382982\n",
      "Dimensionally-reduced data set (tail):\n"
     ]
    },
    {
     "data": {
      "text/html": [
       "<div>\n",
       "<table border=\"1\" class=\"dataframe\">\n",
       "  <thead>\n",
       "    <tr style=\"text-align: right;\">\n",
       "      <th></th>\n",
       "      <th>0</th>\n",
       "    </tr>\n",
       "  </thead>\n",
       "  <tbody>\n",
       "    <tr>\n",
       "      <th>179</th>\n",
       "      <td>1.250929</td>\n",
       "    </tr>\n",
       "    <tr>\n",
       "      <th>180</th>\n",
       "      <td>-1.063471</td>\n",
       "    </tr>\n",
       "    <tr>\n",
       "      <th>181</th>\n",
       "      <td>1.257413</td>\n",
       "    </tr>\n",
       "    <tr>\n",
       "      <th>182</th>\n",
       "      <td>-1.347982</td>\n",
       "    </tr>\n",
       "    <tr>\n",
       "      <th>183</th>\n",
       "      <td>1.222109</td>\n",
       "    </tr>\n",
       "  </tbody>\n",
       "</table>\n",
       "</div>"
      ],
      "text/plain": [
       "            0\n",
       "179  1.250929\n",
       "180 -1.063471\n",
       "181  1.257413\n",
       "182 -1.347982\n",
       "183  1.222109"
      ]
     },
     "metadata": {},
     "output_type": "display_data"
    }
   ],
   "source": [
    "data_set = wafer.ix[:,0:10].values\n",
    "#display(data_set)\n",
    "data_set_std = StandardScaler().fit_transform(data_set)\n",
    "sklearn_pca = sklearnPCA(n_components=9)\n",
    "sklearn_pca.fit(data_set_std)\n",
    "\n",
    "# covariance matrix\n",
    "covariance_matrix = sklearn_pca.get_covariance()\n",
    "#print(\"Covariance matrix:\\n%s\\n\" %covariance_matrix)\n",
    "# eigenvectors\n",
    "eigenvectors = sklearn_pca.components_.T\n",
    "#print(\"Eigenvectors:\\n%s\\n\" %eigenvectors)\n",
    "# eigenvalues (already sorted highest to lowest)\n",
    "eigenvalues_sum = sum(sklearn_pca.explained_variance_)\n",
    "explained_variance = sklearn_pca.explained_variance_/eigenvalues_sum\n",
    "print(\"Explained Variance:\\n%s\\n\" %explained_variance)\n",
    "print(sum(explained_variance[0:1]))\n",
    "\n",
    "# explained variance shows we really only need the eigenvectors associated with the first eigenvalue for 90% \n",
    "sklearn_pca = sklearnPCA(n_components=1)\n",
    "sklearn_pca.fit(data_set_std)\n",
    "# apply the feature vector to the data set\n",
    "pca_data_set = pd.DataFrame(sklearn_pca.transform(data_set_std))\n",
    "print(\"Dimensionally-reduced data set (tail):\")\n",
    "display(pca_data_set.tail())"
   ]
  },
  {
   "cell_type": "markdown",
   "metadata": {},
   "source": [
    "Only need one component for 90% certainty."
   ]
  },
  {
   "cell_type": "code",
   "execution_count": 36,
   "metadata": {
    "collapsed": false
   },
   "outputs": [
    {
     "name": "stdout",
     "output_type": "stream",
     "text": [
      "Explained Variance:\n",
      "[ 0.90837038  0.02822623  0.02240953  0.01960468  0.00768546  0.00624863\n",
      "  0.0033764   0.0029256   0.00115308]\n",
      "\n",
      "0.95900614233\n",
      "Dimensionally-reduced data set (tail):\n"
     ]
    },
    {
     "data": {
      "text/html": [
       "<div>\n",
       "<table border=\"1\" class=\"dataframe\">\n",
       "  <thead>\n",
       "    <tr style=\"text-align: right;\">\n",
       "      <th></th>\n",
       "      <th>0</th>\n",
       "      <th>1</th>\n",
       "      <th>2</th>\n",
       "    </tr>\n",
       "  </thead>\n",
       "  <tbody>\n",
       "    <tr>\n",
       "      <th>179</th>\n",
       "      <td>1.250929</td>\n",
       "      <td>-0.385745</td>\n",
       "      <td>0.059087</td>\n",
       "    </tr>\n",
       "    <tr>\n",
       "      <th>180</th>\n",
       "      <td>-1.063471</td>\n",
       "      <td>0.230204</td>\n",
       "      <td>0.302837</td>\n",
       "    </tr>\n",
       "    <tr>\n",
       "      <th>181</th>\n",
       "      <td>1.257413</td>\n",
       "      <td>-0.298749</td>\n",
       "      <td>-0.152288</td>\n",
       "    </tr>\n",
       "    <tr>\n",
       "      <th>182</th>\n",
       "      <td>-1.347982</td>\n",
       "      <td>0.292728</td>\n",
       "      <td>-0.153568</td>\n",
       "    </tr>\n",
       "    <tr>\n",
       "      <th>183</th>\n",
       "      <td>1.222109</td>\n",
       "      <td>-0.453504</td>\n",
       "      <td>0.183556</td>\n",
       "    </tr>\n",
       "  </tbody>\n",
       "</table>\n",
       "</div>"
      ],
      "text/plain": [
       "            0         1         2\n",
       "179  1.250929 -0.385745  0.059087\n",
       "180 -1.063471  0.230204  0.302837\n",
       "181  1.257413 -0.298749 -0.152288\n",
       "182 -1.347982  0.292728 -0.153568\n",
       "183  1.222109 -0.453504  0.183556"
      ]
     },
     "metadata": {},
     "output_type": "display_data"
    }
   ],
   "source": [
    "data_set = wafer.ix[:,0:10].values\n",
    "#display(data_set)\n",
    "data_set_std = StandardScaler().fit_transform(data_set)\n",
    "sklearn_pca = sklearnPCA(n_components=9)\n",
    "sklearn_pca.fit(data_set_std)\n",
    "\n",
    "# covariance matrix\n",
    "covariance_matrix = sklearn_pca.get_covariance()\n",
    "#print(\"Covariance matrix:\\n%s\\n\" %covariance_matrix)\n",
    "# eigenvectors\n",
    "eigenvectors = sklearn_pca.components_.T\n",
    "#print(\"Eigenvectors:\\n%s\\n\" %eigenvectors)\n",
    "# eigenvalues (already sorted highest to lowest)\n",
    "eigenvalues_sum = sum(sklearn_pca.explained_variance_)\n",
    "explained_variance = sklearn_pca.explained_variance_/eigenvalues_sum\n",
    "print(\"Explained Variance:\\n%s\\n\" %explained_variance)\n",
    "print(sum(explained_variance[0:3]))\n",
    "\n",
    "# explained variance shows we really only need the eigenvectors associated with the first three eigenvalues for 95% \n",
    "sklearn_pca = sklearnPCA(n_components=3)\n",
    "sklearn_pca.fit(data_set_std)\n",
    "# apply the feature vector to the data set\n",
    "pca_data_set = pd.DataFrame(sklearn_pca.transform(data_set_std))\n",
    "print(\"Dimensionally-reduced data set (tail):\")\n",
    "display(pca_data_set.tail())"
   ]
  },
  {
   "cell_type": "markdown",
   "metadata": {},
   "source": [
    "Needed three components for 95%."
   ]
  }
 ],
 "metadata": {
  "anaconda-cloud": {},
  "kernelspec": {
   "display_name": "Python 3",
   "language": "python",
   "name": "python3"
  },
  "language_info": {
   "codemirror_mode": {
    "name": "ipython",
    "version": 3
   },
   "file_extension": ".py",
   "mimetype": "text/x-python",
   "name": "python",
   "nbconvert_exporter": "python",
   "pygments_lexer": "ipython3",
   "version": "3.5.2"
  }
 },
 "nbformat": 4,
 "nbformat_minor": 1
}
