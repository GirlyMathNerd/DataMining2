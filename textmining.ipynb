{
 "cells": [
  {
   "cell_type": "markdown",
   "metadata": {},
   "source": [
    "For some reason my notebooks weren't liking regex, so I used this code in Rodeo on my physical machine."
   ]
  },
  {
   "cell_type": "code",
   "execution_count": null,
   "metadata": {
    "collapsed": true
   },
   "outputs": [],
   "source": [
    "#First, let's download the appropiate packages\n",
    "import sys\n",
    "import numpy as numpy\n",
    "#import sy\n",
    "import matplotlib as plt\n",
    "import pip\n",
    "#pip.main([\"install\",\"regex\"])\n",
    "import regex\n",
    "import re\n",
    "from collections import Counter\n",
    "import glob\n",
    "import os\n",
    "\n",
    "def get_sample_doyle(n = 5000, m = 1000):\n",
    "    with open(r\"Downloads\\doyle.txt\", 'r') as doyle:\n",
    "        text = doyle.read()\n",
    "    text = regex.sub(r\"[^a-zA-Z0-9\\s\\!\\,\\-\\.:;\\?\\']\",\"\",text)\n",
    "    text = text.replace(\"\\n\",\" \")\n",
    "    text = text.replace(\"\\r\", \"\")\n",
    "    text = text.lower()\n",
    "    return re.findall(r\"[\\w']+|[.,!?;:]\", text)[n:n+m]\n",
    "    return(False)\n",
    "def get_sample_emma(n = 5000, m = 1000):\n",
    "    with open(r\"Downloads\\emma.txt\", 'r') as doyle:\n",
    "        text = doyle.read()\n",
    "    text = regex.sub(r\"[^a-zA-Z0-9\\s\\!\\,\\-\\.:;\\?\\']\",\"\",text)\n",
    "    text = text.replace(\"\\n\",\" \")\n",
    "    text = text.replace(\"\\r\", \"\")\n",
    "    text = text.lower()\n",
    "    return re.findall(r\"[\\w']+|[.,!?;:]\", text)[n:n+m]\n",
    "    return(False)\n",
    "#This takes the text and cleans it up.\n",
    "def clean_text(dirty):\n",
    "    text = regex.sub(r\"[^a-zA-Z0-9\\s\\!\\,\\-\\.:;\\?\\']\",\"\",dirty)\n",
    "    text = text.replace(\"\\n\",\" \")\n",
    "    text = text.replace(\"\\r\", \"\")\n",
    "    text = text.lower()\n",
    "    return re.findall(r\"[\\w']+|[.,!?;:]\", text)\n",
    "doyle = get_sample_doyle()\n",
    "doyle = get_sample_doyle(n=1000, m = 1000)\n",
    "#print(doyle)\n",
    "unknown_1 = get_sample_doyle(n=7000, m = 1000)\n",
    "unknown_2 = get_sample_emma(n=7000, m = 500)\n",
    "#This is the function I wrote to compare texts using the dot-product on the unweighted word count. It is the bomb-diggety. It \n",
    "#also has a few bugs in it. Guess what I'm assigning for homework? MWAHAHAHAHAHAHA!!!!!!!!!!\n",
    "def compare_documents(text_1, text_2):\n",
    "    wordbankone = list(text_1)\n",
    "    wordbanktwo = list(text_2)\n",
    "    wordbankone.append(wordbanktwo)\n",
    "    wordbanktotal = list(wordbankone)\n",
    "    squaredone = [text_1.count(x)**2 for x in wordbanktotal]\n",
    "    squaredtwo = [text_2.count(x)**2 for x in wordbanktotal]\n",
    "    dotproduct = [text_1.count(x)*text_2.count(x)/(np.sqrt(sum(squaredtwo))*np.sqrt(sum(squaredone))) for x in wordbanktotal]\n",
    "    return(sum(dotproduct))\n",
    "def which_is_closer(doc, unk1, unk2):\n",
    "    first = compare_documents(doc, unk1)\n",
    "    second = compare_documents(doc, unk2)\n",
    "    if first > second:\n",
    "        return('unknown1 is closer')\n",
    "    else:\n",
    "        return('unknown2 is closer')\n",
    "#Also for homework, retool this function so that you see which is closer to the first document, unknown_1 or unknown_2.\n",
    "compare_documents(unknown_1, unknown_2)\n",
    "which_is_closer(doyle, unknown_1, unknown_2)"
   ]
  }
 ],
 "metadata": {
  "anaconda-cloud": {},
  "kernelspec": {
   "display_name": "Python [conda root]",
   "language": "python",
   "name": "conda-root-py"
  },
  "language_info": {
   "codemirror_mode": {
    "name": "ipython",
    "version": 3
   },
   "file_extension": ".py",
   "mimetype": "text/x-python",
   "name": "python",
   "nbconvert_exporter": "python",
   "pygments_lexer": "ipython3",
   "version": "3.5.2"
  }
 },
 "nbformat": 4,
 "nbformat_minor": 1
}
